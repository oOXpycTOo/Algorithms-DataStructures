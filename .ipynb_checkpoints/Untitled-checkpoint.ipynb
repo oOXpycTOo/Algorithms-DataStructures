{
 "cells": [
  {
   "cell_type": "code",
   "execution_count": 4,
   "metadata": {},
   "outputs": [],
   "source": [
    "import plotly.plotly as py\n",
    "import plotly.graph_objs as go\n",
    "import numpy as np"
   ]
  },
  {
   "cell_type": "code",
   "execution_count": 7,
   "metadata": {},
   "outputs": [
    {
     "data": {
      "text/plain": [
       "array([5., 2., 1., 4., 8., 7.])"
      ]
     },
     "execution_count": 7,
     "metadata": {},
     "output_type": "execute_result"
    }
   ],
   "source": [
    "data = np.loadtxt(\"output.txt\", delimiter=\"\\n\")\n",
    "data"
   ]
  },
  {
   "cell_type": "code",
   "execution_count": 21,
   "metadata": {},
   "outputs": [
    {
     "ename": "SyntaxError",
     "evalue": "non-default argument follows default argument (<ipython-input-21-35eb10fcb4ac>, line 2)",
     "output_type": "error",
     "traceback": [
      "\u001b[0;36m  File \u001b[0;32m\"<ipython-input-21-35eb10fcb4ac>\"\u001b[0;36m, line \u001b[0;32m2\u001b[0m\n\u001b[0;31m    def __init__(self, left=0, right=0, parent=0, coords, key):\u001b[0m\n\u001b[0m                ^\u001b[0m\n\u001b[0;31mSyntaxError\u001b[0m\u001b[0;31m:\u001b[0m non-default argument follows default argument\n"
     ]
    }
   ],
   "source": [
    "class Tree:\n",
    "    def __init__(self, coords, key,left=0, right=0, parent=0):\n",
    "        self.__left = left\n",
    "        self.__right = right\n",
    "        self.__parent = 0\n",
    "        self.__coords = coords\n",
    "        self.__key = key\n",
    "        self.delta_x = 30\n",
    "        self.delta_y = 30\n",
    "        \n",
    "    def make_root(self, key):\n",
    "        self.__init__(self, key=key)\n",
    "        return self\n",
    "    \n",
    "    def add_node(self, key):\n",
    "        if(key < self.__key):\n",
    "            if left != 0:\n",
    "                self.__left.add_node(key)\n",
    "            else:\n",
    "                self.__left = Tree(parent=self,\n",
    "                                   key=key,\n",
    "                                   coords={\n",
    "                                        \"x\":self.__coords[\"x\"] - self.delta_x,\n",
    "                                        \"y\":self.__coords[\"y\"] - self.delta_y\n",
    "                                    }\n",
    "                                  )\n",
    "        elif(key > self.__key):\n",
    "            if right != 0:\n",
    "                self.__right.add_node(key)\n",
    "            else:\n",
    "                self.__right = Tree(parent=self,\n",
    "                                   key=key,\n",
    "                                   coords={\n",
    "                                        \"x\":self.__coords[\"x\"] - self.delta_x,\n",
    "                                        \"y\":self.__coords[\"y\"] + self.delta_y\n",
    "                                    }\n",
    "                                  )\n",
    "    \n",
    "    def plot(self, data=0):\n",
    "        if data == 0:\n",
    "            data = [go.Scatter(x=self.__coords[\"x\"],\n",
    "                               y=self.__coords[\"y\"],\n",
    "                               text=str(self.__key))\n",
    "                   ]\n",
    "        else:\n",
    "            data.append(go.Scatter(x=self.__coords[\"x\"],\n",
    "                                   y=self.__coords[\"y\"],\n",
    "                                   text=str(self.__key)))\n",
    "        if self.__left != 0:\n",
    "            self.__left.plot(data)\n",
    "        if self.__right != 0:\n",
    "            self.__right.plot(data)\n",
    "        \n",
    "        if parent == 0:\n",
    "            py.iplot(data)"
   ]
  },
  {
   "cell_type": "code",
   "execution_count": 16,
   "metadata": {},
   "outputs": [],
   "source": [
    "tree = Tree().make_root()"
   ]
  },
  {
   "cell_type": "code",
   "execution_count": 19,
   "metadata": {},
   "outputs": [
    {
     "ename": "AttributeError",
     "evalue": "'Tree' object has no attribute 'add_node'",
     "output_type": "error",
     "traceback": [
      "\u001b[0;31m---------------------------------------------------------------------------\u001b[0m",
      "\u001b[0;31mAttributeError\u001b[0m                            Traceback (most recent call last)",
      "\u001b[0;32m<ipython-input-19-e7eff086a273>\u001b[0m in \u001b[0;36m<module>\u001b[0;34m()\u001b[0m\n\u001b[1;32m      1\u001b[0m \u001b[0;32mfor\u001b[0m \u001b[0mi\u001b[0m \u001b[0;32min\u001b[0m \u001b[0mrange\u001b[0m\u001b[0;34m(\u001b[0m\u001b[0;36m1\u001b[0m\u001b[0;34m,\u001b[0m \u001b[0mlen\u001b[0m\u001b[0;34m(\u001b[0m\u001b[0mdata\u001b[0m\u001b[0;34m)\u001b[0m\u001b[0;34m)\u001b[0m\u001b[0;34m:\u001b[0m\u001b[0;34m\u001b[0m\u001b[0m\n\u001b[0;32m----> 2\u001b[0;31m     \u001b[0mtree\u001b[0m\u001b[0;34m.\u001b[0m\u001b[0madd_node\u001b[0m\u001b[0;34m(\u001b[0m\u001b[0mdata\u001b[0m\u001b[0;34m[\u001b[0m\u001b[0mi\u001b[0m\u001b[0;34m]\u001b[0m\u001b[0;34m)\u001b[0m\u001b[0;34m\u001b[0m\u001b[0m\n\u001b[0m\u001b[1;32m      3\u001b[0m \u001b[0mtree\u001b[0m\u001b[0;34m.\u001b[0m\u001b[0mplot\u001b[0m\u001b[0;34m(\u001b[0m\u001b[0;34m)\u001b[0m\u001b[0;34m\u001b[0m\u001b[0m\n",
      "\u001b[0;31mAttributeError\u001b[0m: 'Tree' object has no attribute 'add_node'"
     ]
    }
   ],
   "source": [
    "for i in range(1, len(data)):\n",
    "    tree.add_node(data[i])\n",
    "tree.plot()"
   ]
  },
  {
   "cell_type": "code",
   "execution_count": 18,
   "metadata": {},
   "outputs": [
    {
     "ename": "TypeError",
     "evalue": "iplot() missing 1 required positional argument: 'figure_or_data'",
     "output_type": "error",
     "traceback": [
      "\u001b[0;31m---------------------------------------------------------------------------\u001b[0m",
      "\u001b[0;31mTypeError\u001b[0m                                 Traceback (most recent call last)",
      "\u001b[0;32m<ipython-input-18-9138225396a4>\u001b[0m in \u001b[0;36m<module>\u001b[0;34m()\u001b[0m\n\u001b[0;32m----> 1\u001b[0;31m \u001b[0mpy\u001b[0m\u001b[0;34m.\u001b[0m\u001b[0miplot\u001b[0m\u001b[0;34m(\u001b[0m\u001b[0mdata\u001b[0m\u001b[0;34m=\u001b[0m\u001b[0;34m(\u001b[0m\u001b[0;36m0\u001b[0m\u001b[0;34m,\u001b[0m \u001b[0;36m0\u001b[0m\u001b[0;34m)\u001b[0m\u001b[0;34m)\u001b[0m\u001b[0;34m\u001b[0m\u001b[0m\n\u001b[0m",
      "\u001b[0;31mTypeError\u001b[0m: iplot() missing 1 required positional argument: 'figure_or_data'"
     ]
    }
   ],
   "source": []
  },
  {
   "cell_type": "code",
   "execution_count": null,
   "metadata": {},
   "outputs": [],
   "source": []
  }
 ],
 "metadata": {
  "kernelspec": {
   "display_name": "Python 3",
   "language": "python",
   "name": "python3"
  },
  "language_info": {
   "codemirror_mode": {
    "name": "ipython",
    "version": 3
   },
   "file_extension": ".py",
   "mimetype": "text/x-python",
   "name": "python",
   "nbconvert_exporter": "python",
   "pygments_lexer": "ipython3",
   "version": "3.6.6"
  }
 },
 "nbformat": 4,
 "nbformat_minor": 2
}
